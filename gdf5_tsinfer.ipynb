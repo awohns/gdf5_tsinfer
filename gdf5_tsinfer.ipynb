{
 "cells": [
  {
   "cell_type": "code",
   "execution_count": 6,
   "metadata": {},
   "outputs": [],
   "source": [
    "import requests\n",
    "import re\n",
    "import json\n",
    "import math\n",
    "\n",
    "import tsinfer\n",
    "from ete3 import Tree, TreeStyle, TextFace"
   ]
  },
  {
   "cell_type": "code",
   "execution_count": 7,
   "metadata": {},
   "outputs": [],
   "source": [
    "google_files = {\n",
    "    \"focal10\":\"1Pw5s3-_p0Ap8MUs6F2OUHRUXwphTs7pc\",\n",
    "    \"filtered\": \"1jjRkDBO2QmAmsCZ6cgMjMY6g17pecp2G\",\n",
    "    \"full\":\"1NZAp11dUnfq9VmXs4gN5qZ3d6wJiHt-Y\", \n",
    "    \"allsnps\": \"1AF4lZHOO2IrtZJVZGPe4QaEKlk6ttq7B\",\n",
    "    }"
   ]
  },
  {
   "cell_type": "code",
   "execution_count": 23,
   "metadata": {},
   "outputs": [
    {
     "name": "stdout",
     "output_type": "stream",
     "text": [
      "https://drive.google.com/uc?export=download&id=1Pw5s3-_p0Ap8MUs6F2OUHRUXwphTs7pc\n",
      "Generated 64 trees from 33887954 to 34025982 for 222 SNPs\n",
      "https://drive.google.com/uc?export=download&id=1jjRkDBO2QmAmsCZ6cgMjMY6g17pecp2G\n"
     ]
    },
    {
     "ename": "KeyboardInterrupt",
     "evalue": "",
     "output_type": "error",
     "traceback": [
      "\u001b[0;31m---------------------------------------------------------------------------\u001b[0m",
      "\u001b[0;31mKeyboardInterrupt\u001b[0m                         Traceback (most recent call last)",
      "\u001b[0;32m<ipython-input-23-3d2fe0027164>\u001b[0m in \u001b[0;36m<module>\u001b[0;34m()\u001b[0m\n\u001b[1;32m     28\u001b[0m                     \u001b[0ma\u001b[0m\u001b[0;34m.\u001b[0m\u001b[0mappend\u001b[0m\u001b[0;34m(\u001b[0m\u001b[0mint\u001b[0m\u001b[0;34m(\u001b[0m\u001b[0msnp_position\u001b[0m\u001b[0;34m.\u001b[0m\u001b[0mgroup\u001b[0m\u001b[0;34m(\u001b[0m\u001b[0;36m2\u001b[0m\u001b[0;34m)\u001b[0m\u001b[0;34m)\u001b[0m\u001b[0;34m)\u001b[0m\u001b[0;34m\u001b[0m\u001b[0m\n\u001b[1;32m     29\u001b[0m                     \u001b[0;32mif\u001b[0m \u001b[0mall\u001b[0m\u001b[0;34m(\u001b[0m\u001b[0;34m[\u001b[0m\u001b[0;36m0\u001b[0m\u001b[0;34m<=\u001b[0m\u001b[0mint\u001b[0m\u001b[0;34m(\u001b[0m\u001b[0mi\u001b[0m\u001b[0;34m)\u001b[0m\u001b[0;34m<=\u001b[0m\u001b[0;36m1\u001b[0m \u001b[0;32mfor\u001b[0m \u001b[0mi\u001b[0m \u001b[0;32min\u001b[0m \u001b[0mdata\u001b[0m\u001b[0;34m[\u001b[0m\u001b[0;36m2\u001b[0m\u001b[0;34m:\u001b[0m\u001b[0;34m]\u001b[0m\u001b[0;34m]\u001b[0m\u001b[0;34m)\u001b[0m\u001b[0;34m:\u001b[0m\u001b[0;34m\u001b[0m\u001b[0m\n\u001b[0;32m---> 30\u001b[0;31m                         \u001b[0msample_data\u001b[0m\u001b[0;34m.\u001b[0m\u001b[0madd_site\u001b[0m\u001b[0;34m(\u001b[0m\u001b[0mint\u001b[0m\u001b[0;34m(\u001b[0m\u001b[0msnp_position\u001b[0m\u001b[0;34m.\u001b[0m\u001b[0mgroup\u001b[0m\u001b[0;34m(\u001b[0m\u001b[0;36m2\u001b[0m\u001b[0;34m)\u001b[0m\u001b[0;34m)\u001b[0m\u001b[0;34m,\u001b[0m \u001b[0;34m[\u001b[0m\u001b[0;34m\"0\"\u001b[0m\u001b[0;34m,\u001b[0m \u001b[0;34m\"1\"\u001b[0m\u001b[0;34m]\u001b[0m\u001b[0;34m,\u001b[0m \u001b[0;34m[\u001b[0m\u001b[0mint\u001b[0m\u001b[0;34m(\u001b[0m\u001b[0mi\u001b[0m\u001b[0;34m)\u001b[0m \u001b[0;32mfor\u001b[0m \u001b[0mi\u001b[0m \u001b[0;32min\u001b[0m \u001b[0mdata\u001b[0m\u001b[0;34m[\u001b[0m\u001b[0;36m2\u001b[0m\u001b[0;34m:\u001b[0m\u001b[0;34m]\u001b[0m\u001b[0;34m]\u001b[0m\u001b[0;34m)\u001b[0m\u001b[0;34m\u001b[0m\u001b[0m\n\u001b[0m\u001b[1;32m     31\u001b[0m                     \u001b[0;32melse\u001b[0m\u001b[0;34m:\u001b[0m\u001b[0;34m\u001b[0m\u001b[0m\n\u001b[1;32m     32\u001b[0m                         \u001b[0mprint\u001b[0m\u001b[0;34m(\u001b[0m\u001b[0;34m\"Problem in line {} of {} (SNP {} {})\"\u001b[0m\u001b[0;34m.\u001b[0m\u001b[0mformat\u001b[0m\u001b[0;34m(\u001b[0m\u001b[0ml\u001b[0m\u001b[0;34m,\u001b[0m \u001b[0mdoc\u001b[0m\u001b[0;34m,\u001b[0m \u001b[0mdata\u001b[0m\u001b[0;34m[\u001b[0m\u001b[0;36m0\u001b[0m\u001b[0;34m]\u001b[0m\u001b[0;34m,\u001b[0m \u001b[0mdata\u001b[0m\u001b[0;34m[\u001b[0m\u001b[0;36m1\u001b[0m\u001b[0;34m]\u001b[0m\u001b[0;34m)\u001b[0m\u001b[0;34m)\u001b[0m\u001b[0;34m\u001b[0m\u001b[0m\n",
      "\u001b[0;32m~/anaconda_ete/lib/python3.6/site-packages/tsinfer/formats.py\u001b[0m in \u001b[0;36madd_site\u001b[0;34m(self, position, alleles, genotypes, metadata, inference)\u001b[0m\n\u001b[1;32m    912\u001b[0m         \"\"\"\n\u001b[1;32m    913\u001b[0m         \u001b[0mself\u001b[0m\u001b[0;34m.\u001b[0m\u001b[0m_check_build_mode\u001b[0m\u001b[0;34m(\u001b[0m\u001b[0;34m)\u001b[0m\u001b[0;34m\u001b[0m\u001b[0m\n\u001b[0;32m--> 914\u001b[0;31m         \u001b[0mgenotypes\u001b[0m \u001b[0;34m=\u001b[0m \u001b[0mnp\u001b[0m\u001b[0;34m.\u001b[0m\u001b[0marray\u001b[0m\u001b[0;34m(\u001b[0m\u001b[0mgenotypes\u001b[0m\u001b[0;34m,\u001b[0m \u001b[0mdtype\u001b[0m\u001b[0;34m=\u001b[0m\u001b[0mnp\u001b[0m\u001b[0;34m.\u001b[0m\u001b[0muint8\u001b[0m\u001b[0;34m,\u001b[0m \u001b[0mcopy\u001b[0m\u001b[0;34m=\u001b[0m\u001b[0;32mFalse\u001b[0m\u001b[0;34m)\u001b[0m\u001b[0;34m\u001b[0m\u001b[0m\n\u001b[0m\u001b[1;32m    915\u001b[0m         \u001b[0;32mif\u001b[0m \u001b[0mself\u001b[0m\u001b[0;34m.\u001b[0m\u001b[0m_samples_writer\u001b[0m \u001b[0;32mis\u001b[0m \u001b[0;32mnot\u001b[0m \u001b[0;32mNone\u001b[0m\u001b[0;34m:\u001b[0m\u001b[0;34m\u001b[0m\u001b[0m\n\u001b[1;32m    916\u001b[0m             \u001b[0mself\u001b[0m\u001b[0;34m.\u001b[0m\u001b[0m_finalise_samples\u001b[0m\u001b[0;34m(\u001b[0m\u001b[0mgenotypes\u001b[0m\u001b[0;34m.\u001b[0m\u001b[0mshape\u001b[0m\u001b[0;34m[\u001b[0m\u001b[0;36m0\u001b[0m\u001b[0;34m]\u001b[0m\u001b[0;34m)\u001b[0m\u001b[0;34m\u001b[0m\u001b[0m\n",
      "\u001b[0;31mKeyboardInterrupt\u001b[0m: "
     ]
    }
   ],
   "source": [
    "for dataset, doc in google_files.items():\n",
    "    a=[]\n",
    "    url = \"https://drive.google.com/uc?export=download&id={}\".format(doc)\n",
    "    print(url)\n",
    "    chr = None\n",
    "    l = 0\n",
    "    r = requests.get(url, stream=True)\n",
    "    with tsinfer.SampleData(path=\"{}.samples\".format(dataset)) as sample_data:\n",
    "        for line in r.iter_lines(decode_unicode=True):\n",
    "            # filter out keep-alive new lines\n",
    "            if line:\n",
    "                l += 1\n",
    "                data = line.split() #split on whitespace\n",
    "                if l==1: #header line\n",
    "                    for name in data[1:]: #first is position\n",
    "                        sample_data.add_sample({'name':name.strip(\"\\\"\")})\n",
    "                else:\n",
    "                    #match e.g. chr20:33896756-33896757\n",
    "                    snp_position = re.match(r'([^:]+):(\\d+)-(\\d+)', data[1])\n",
    "                    #check we have a sensible position\n",
    "                    assert snp_position, \"SNP position is {}\".format(data[1])\n",
    "                    #check all are on the same chromosome\n",
    "                    assert (chr == None) or (chr == snp_position.group(1)), \\\n",
    "                        \"Different chromosomes, {} vs {}\".format(chr, snp_position.group(1))\n",
    "                    chr = snp_position.group(1)\n",
    "                    #check these are single SNPs\n",
    "                    assert int(snp_position.group(2))+1 == int(snp_position.group(3)), \\\n",
    "                        \"start+1 != end ({} vs {})\".format(snp_position.group(2), snp_position.group(3))\n",
    "                    #read in\n",
    "                    a.append(int(snp_position.group(2)))\n",
    "                    if all([0<=int(i)<=1 for i in data[2:]]):\n",
    "                        sample_data.add_site(int(snp_position.group(2)), [\"0\", \"1\"], [int(i) for i in data[2:]])\n",
    "                    else:\n",
    "                        print(\"Problem in line {} of {} (SNP {} {})\".format(l, doc, data[0], data[1]))\n",
    "    \n",
    "    \n",
    "    inferred_ts = tsinfer.infer(sample_data)\n",
    "    print(\"Generated {} trees from {} to {} for {} SNPs\".format(inferred_ts.num_trees, min(a), max(a), l-1))\n",
    "    inferred_ts.dump(\"{}.trees\".format(dataset))\n",
    "    \n",
    "    node_labels={n.id:json.loads(n.metadata)['name'] for n in inferred_ts.nodes() if n.is_sample()}\n",
    "    for tree in inferred_ts.trees():\n",
    "        low, high = tree.interval\n",
    "        if low <= 33952619 < high:\n",
    "            #only output the tree at the locus of interest\n",
    "            identifier = \"{}-{}_{}\".format(low, high, dataset)\n",
    "            svg = tree.draw(path=identifier + \".svg\", format=\"svg\", width = 1000*math.log(inferred_ts.num_samples), height=1000, node_labels=node_labels)\n",
    "            visualize_tree(tree,identifier)\n",
    "            \n",
    "            #with open(identifier + \".nwk\", \"wt\") as f:\n",
    "            #    print(tree.newick(), file=f)"
   ]
  },
  {
   "cell_type": "code",
   "execution_count": 21,
   "metadata": {},
   "outputs": [],
   "source": [
    "def visualize_tree(tree,tree_name):\n",
    "    import matplotlib as plt\n",
    "\n",
    "    first_tree = Tree(tree.newick())\n",
    "\n",
    "    for node in first_tree.traverse():\n",
    "        # Hide node circles\n",
    "        node.img_style['size'] = 0\n",
    "       \n",
    "    ts = TreeStyle()\n",
    "    ts.mode = \"c\"\n",
    "    ts.arc_start = 0 # 0 degrees = 3 o'clock\n",
    "    ts.arc_span = 360\n",
    "    ts.show_leaf_name = True\n",
    "    \n",
    "    ts.show_scale = False\n",
    "\n",
    "    # Draw Tree\n",
    "    first_tree.render(tree_name+\".png\", dpi=300, w=2400, tree_style=ts)\n"
   ]
  },
  {
   "cell_type": "code",
   "execution_count": null,
   "metadata": {},
   "outputs": [],
   "source": []
  }
 ],
 "metadata": {
  "kernelspec": {
   "display_name": "Python 3",
   "language": "python",
   "name": "python3"
  },
  "language_info": {
   "codemirror_mode": {
    "name": "ipython",
    "version": 3
   },
   "file_extension": ".py",
   "mimetype": "text/x-python",
   "name": "python",
   "nbconvert_exporter": "python",
   "pygments_lexer": "ipython3",
   "version": "3.6.4"
  }
 },
 "nbformat": 4,
 "nbformat_minor": 2
}
